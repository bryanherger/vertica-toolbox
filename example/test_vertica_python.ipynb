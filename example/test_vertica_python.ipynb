{
 "cells": [
  {
   "cell_type": "markdown",
   "metadata": {},
   "source": [
    "Python notebook to demonstrate Vertica connection and simple queries and plots from Vertica system tables"
   ]
  },
  {
   "cell_type": "code",
   "execution_count": 1,
   "metadata": {},
   "outputs": [
    {
     "name": "stdout",
     "output_type": "stream",
     "text": [
      "['Vertica Analytic Database v9.0.1-1']\n"
     ]
    }
   ],
   "source": [
    "%matplotlib notebook\n",
    "import vertica_python\n",
    "# fill in your database info here\n",
    "conn_info = {'host': '10.0.2.15', \n",
    "             'port' : 5433, \n",
    "             'user': 'dbadmin', \n",
    "             'password':'changeme', \n",
    "             'database': 'VMart', \n",
    "             'read_timeout': 600, 'unicode_error': 'strict', 'ssl': False, 'connection_timeout': 5}\n",
    "# quick connection test\n",
    "with vertica_python.connect(**conn_info) as connection:\n",
    "    cur = connection.cursor()\n",
    "    cur.execute(\"SELECT VERSION();\")\n",
    "    for row in cur.iterate():\n",
    "        print(row)"
   ]
  },
  {
   "cell_type": "code",
   "execution_count": null,
   "metadata": {},
   "outputs": [],
   "source": []
  }
 ],
 "metadata": {
  "kernelspec": {
   "display_name": "Python 3",
   "language": "python",
   "name": "python3"
  },
  "language_info": {
   "codemirror_mode": {
    "name": "ipython",
    "version": 3
   },
   "file_extension": ".py",
   "mimetype": "text/x-python",
   "name": "python",
   "nbconvert_exporter": "python",
   "pygments_lexer": "ipython3",
   "version": "3.6.3"
  }
 },
 "nbformat": 4,
 "nbformat_minor": 2
}
